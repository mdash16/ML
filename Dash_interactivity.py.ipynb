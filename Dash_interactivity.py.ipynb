{
    "cells": [
        {
            "metadata": {
                "collapsed": true
            },
            "cell_type": "code",
            "source": "import pandas as pd\nimport dash\nimport dash_html_components as html\nimport dash_core_components as dcc\nfrom dash.dependencies import Input, Output\nimport plotly.express as px\n\n\nspacex_df = pd.read_csv(\"spacex_launch_dash.csv\")\nmax_payload = spacex_df['Payload Mass (kg)'].max()\nmin_payload = spacex_df['Payload Mass (kg)'].min()\n\n\napp = dash.Dash(__name__)\n\n\napp.layout = html.Div(children=[html.H1('SpaceX Launch Records Dashboard',\n                                        style={'textAlign': 'center', 'color': '#503D36',\n                                               'font-size': 40}),\n                                \n                                dcc.Dropdown(id='site-dropdown', options=[{'label': 'All Sites', 'value': 'ALL'},\n                                                                        {'label': 'CCAFS LC-40', 'value': 'CCAFS LC-40'},\n                                                                        {'label': 'VAFB SLC-4E', 'value': 'VAFB SLC-4E'},\n                                                                        {'label': 'KSC LC-39A', 'value': 'KSC LC-39A'},\n                                                                        {'label': 'CCAFS SLC-40', 'value': 'CCAFS SLC-40'}],\n                                                                        value='ALL',\n                                                                        placeholder='Select a Launch Site here',\n                                                                        searchable=True),\n                                html.Br(),\n\n                                \n                                html.Div(dcc.Graph(id='success-pie-chart')),\n                                html.Br(),\n\n                                html.P(\"Payload range (Kg):\"),\n                             \n                                dcc.RangeSlider(id='payload-slider',\n                                                min=0, max=10000, step=1000,\n                                                marks={2500: '2500',\n                                                    5000: '5000',\n                                                    7500: '7500'},\n                                                value=[min_payload , max_payload]),\n\n                                \n                                html.Div(dcc.Graph(id='success-payload-scatter-chart')),\n                                ])\n\n\n@app.callback(Output(component_id='success-pie-chart', component_property='figure'),\n                Input(component_id='site-dropdown', component_property='value'))\ndef get_pie_chart(entered_site):\n    if entered_site == 'ALL':\n        filtered_df = spacex_df.groupby('Launch Site')['class'].sum().to_frame().reset_index().rename(columns={\"class\": \"nb_success\"})\n        fig = px.pie(filtered_df, values='nb_success', \n        names='Launch Site', \n        title='Total Success Launches by Site')\n        return fig\n    else:\n        # return the outcomes piechart for a selected site\n        filtered_df = spacex_df[spacex_df['Launch Site']==entered_site]['class'].value_counts().to_frame().reset_index()\n        filtered_df = filtered_df.rename(columns={\"index\": \"class\", \"class\": \"count\"})\n        fig = px.pie(filtered_df, values=\"count\", \n        names=\"class\", \n        title='Total Success Launches for '+ entered_site)\n        return fig\n\n\n@app.callback(Output(component_id='success-payload-scatter-chart', component_property='figure'),\n               [Input(component_id='site-dropdown', component_property='value'), Input(component_id=\"payload-slider\", component_property=\"value\")])\ndef get_scatter_chart(entered_site, slider_value):\n    if entered_site == 'ALL':\n        filtered_df = spacex_df[['Payload Mass (kg)', 'class', 'Booster Version Category']]\n        filtered_df = filtered_df[filtered_df['Payload Mass (kg)'].between(slider_value[0], slider_value[1], inclusive=True)]\n        fig = px.scatter(filtered_df, x='Payload Mass (kg)', y='class', color='Booster Version Category',\n        title='Correlation between Payload and Success for all Sites')\n        return fig\n    else:\n        filtered_df = spacex_df[spacex_df['Launch Site']==entered_site]['Payload Mass (kg)', 'class', 'Booster Version Category']\n        filtered_df = filtered_df[filtered_df['Payload Mass (kg)'].between(slider_value[0], slider_value[1], inclusive=True)]\n        fig = px.scatter(filtered_df, x='Payload Mass (kg)', y='class', color='Booster Version Category',\n        title='Correlation between Payload and Success for ' + entered_site)\n        return fig\n\n\nif __name__ == '__main__':\n    app.run_server()",
            "execution_count": null,
            "outputs": []
        }
    ],
    "metadata": {
        "kernelspec": {
            "name": "python3",
            "display_name": "Python 3.9",
            "language": "python"
        },
        "language_info": {
            "name": "python",
            "version": "3.9.7",
            "mimetype": "text/x-python",
            "codemirror_mode": {
                "name": "ipython",
                "version": 3
            },
            "pygments_lexer": "ipython3",
            "nbconvert_exporter": "python",
            "file_extension": ".py"
        }
    },
    "nbformat": 4,
    "nbformat_minor": 1
}